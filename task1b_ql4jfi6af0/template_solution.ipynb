{
 "cells": [
  {
   "cell_type": "markdown",
   "metadata": {},
   "source": [
    "#### General guidance\n",
    "\n",
    "This serves as a template which will guide you through the implementation of this task. It is advised\n",
    "to first read the whole template and get a sense of the overall structure of the code before trying to fill in any of the TODO gaps.\n",
    "This is the jupyter notebook version of the template. For the python file version, please refer to the file `template_solution.py`.\n",
    "\n",
    "First, we import necessary libraries:"
   ]
  },
  {
   "cell_type": "code",
   "execution_count": null,
   "metadata": {},
   "outputs": [],
   "source": [
    "import numpy as np\n",
    "import pandas as pd\n",
    "from sklearn.linear_model import RidgeCV\n",
    "from sklearn.model_selection import KFold\n",
    "\n",
    "# Add any additional imports here (however, the task is solvable without using \n",
    "# any additional imports)\n",
    "# import ..."
   ]
  },
  {
   "cell_type": "markdown",
   "metadata": {},
   "source": [
    " #### Loading data"
   ]
  },
  {
   "cell_type": "code",
   "execution_count": 1,
   "metadata": {},
   "outputs": [
    {
     "ename": "NameError",
     "evalue": "name 'pd' is not defined",
     "output_type": "error",
     "traceback": [
      "\u001b[0;31m---------------------------------------------------------------------------\u001b[0m",
      "\u001b[0;31mNameError\u001b[0m                                 Traceback (most recent call last)",
      "Cell \u001b[0;32mIn[1], line 1\u001b[0m\n\u001b[0;32m----> 1\u001b[0m data \u001b[38;5;241m=\u001b[39m \u001b[43mpd\u001b[49m\u001b[38;5;241m.\u001b[39mread_csv(\u001b[38;5;124m\"\u001b[39m\u001b[38;5;124mtrain.csv\u001b[39m\u001b[38;5;124m\"\u001b[39m)\n\u001b[1;32m      2\u001b[0m y \u001b[38;5;241m=\u001b[39m data[\u001b[38;5;124m\"\u001b[39m\u001b[38;5;124my\u001b[39m\u001b[38;5;124m\"\u001b[39m]\u001b[38;5;241m.\u001b[39mto_numpy()\n\u001b[1;32m      3\u001b[0m data \u001b[38;5;241m=\u001b[39m data\u001b[38;5;241m.\u001b[39mdrop(columns\u001b[38;5;241m=\u001b[39m[\u001b[38;5;124m\"\u001b[39m\u001b[38;5;124mId\u001b[39m\u001b[38;5;124m\"\u001b[39m, \u001b[38;5;124m\"\u001b[39m\u001b[38;5;124my\u001b[39m\u001b[38;5;124m\"\u001b[39m])\n",
      "\u001b[0;31mNameError\u001b[0m: name 'pd' is not defined"
     ]
    }
   ],
   "source": [
    "data = pd.read_csv(\"train.csv\")\n",
    "y = data[\"y\"].to_numpy()\n",
    "data = data.drop(columns=[\"Id\", \"y\"])\n",
    "# print a few data samples\n",
    "print(data.head())\n",
    "X = data.to_numpy()"
   ]
  },
  {
   "cell_type": "markdown",
   "metadata": {},
   "source": [
    "#### Transform data"
   ]
  },
  {
   "cell_type": "code",
   "execution_count": null,
   "metadata": {},
   "outputs": [
    {
     "name": "stdout",
     "output_type": "stream",
     "text": [
      "[-0.06 -0.02 -0.08  0.09 -0.03]\n",
      "[-6.00000000e-02 -2.00000000e-02 -8.00000000e-02  9.00000000e-02\n",
      " -3.00000000e-02  3.60000000e-03  4.00000000e-04  6.40000000e-03\n",
      "  8.10000000e-03  9.00000000e-04  9.41764534e-01  9.80198673e-01\n",
      "  9.23116346e-01  1.09417428e+00  9.70445534e-01  9.98200540e-01\n",
      "  9.99800007e-01  9.96801706e-01  9.95952733e-01  9.99550034e-01\n",
      "  1.00000000e+00]\n"
     ]
    }
   ],
   "source": [
    "\"\"\"\n",
    "Transform the 5 input features of matrix X (x_i denoting the i-th component of a given row in X) \n",
    "into 21 new features phi(X) in the following manner:\n",
    "5 linear features: phi_1(X) = x_1, phi_2(X) = x_2, phi_3(X) = x_3, phi_4(X) = x_4, phi_5(X) = x_5\n",
    "5 quadratic features: phi_6(X) = x_1^2, phi_7(X) = x_2^2, phi_8(X) = x_3^2, phi_9(X) = x_4^2, phi_10(X) = x_5^2\n",
    "5 exponential features: phi_11(X) = exp(x_1), phi_12(X) = exp(x_2), phi_13(X) = exp(x_3), phi_14(X) = exp(x_4), phi_15(X) = exp(x_5)\n",
    "5 cosine features: phi_16(X) = cos(x_1), phi_17(X) = cos(x_2), phi_18(X) = cos(x_3), phi_19(X) = cos(x_4), phi_20(X) = cos(x_5)\n",
    "1 constant feature: phi_21(X)=1\n",
    "\n",
    "Parameters\n",
    "----------\n",
    "X: matrix of floats, dim = (700,5), inputs with 5 features\n",
    "\n",
    "Compute\n",
    "----------\n",
    "X_input: matrix of floats: dim = (700,21), transformed input with 21 features\n",
    "\"\"\"\n",
    "X_input = np.zeros((700, 21))\n",
    "# TODO: Enter your code here\n",
    "\n",
    "for i in range(5):\n",
    "    X_input[:,i] = X[:,i]\n",
    "    X_input[:, i + 5] = X[:, i] ** 2\n",
    "    X_input[:, i + 10] = np.exp(X[:, i])\n",
    "    X_input[:, i + 15] = np.cos(X[:,i])\n",
    "\n",
    "X_input[:, 20] = 1\n",
    "\n",
    "assert X_input.shape == (700, 21)\n",
    "print(X[6,:])\n",
    "print(X_input[6, :])\n",
    "\n",
    "\n",
    "#print(round(X_input[0,5],4))"
   ]
  },
  {
   "cell_type": "markdown",
   "metadata": {},
   "source": [
    "#### Fit data"
   ]
  },
  {
   "cell_type": "code",
   "execution_count": null,
   "metadata": {},
   "outputs": [
    {
     "name": "stdout",
     "output_type": "stream",
     "text": [
      "[ 0.90313017 -1.2361623  -1.34453172  0.42508462 -0.09190448 -2.59376078\n",
      "  2.17900107  1.42397491 -0.22342703  3.18950838 -1.22463233 -0.33460364\n",
      " -1.12043789 -0.60047926  0.81971973  0.94696741 -1.45120181 -1.05749565\n",
      " -0.26508756 -1.89390763 -0.35772424]\n"
     ]
    },
    {
     "name": "stderr",
     "output_type": "stream",
     "text": [
      "/opt/anaconda3/envs/IML/lib/python3.10/site-packages/sklearn/linear_model/_ridge.py:2385: FutureWarning: 'store_cv_values' is deprecated in version 1.5 and will be removed in 1.7. Use 'store_cv_results' instead.\n",
      "  warnings.warn(\n"
     ]
    }
   ],
   "source": [
    "\"\"\"\n",
    "Use the transformed data points X_transformed and fit the linear regression on this \n",
    "transformed data. Finally, compute the weights of the fitted linear regression. \n",
    "\n",
    "Parameters\n",
    "----------\n",
    "X_transformed: array of floats: dim = (700,21), transformed input with 21 features\n",
    "y: array of floats, dim = (700,), input labels\n",
    "\n",
    "Compute\n",
    "----------\n",
    "w: array of floats: dim = (21,), optimal parameters of linear regression\n",
    "\"\"\"\n",
    "weights = np.zeros(21,)\n",
    "# TODO: Enter your code here\n",
    "lam = np.logspace(-3,-1,1000)\n",
    "model_ridge = RidgeCV(lam, fit_intercept=False, store_cv_values=True)\n",
    "model_ridge.fit(X_input, y)\n",
    "weights = model_ridge.coef_\n",
    "#weights = np.linalg.inv(np.transpose(X_input) @ X_input + np.eye(X_input.shape[1])) @ np.transpose(X_input) @ y\n",
    "assert weights.shape == (21,)\n",
    "print(weights)\n",
    "#print(weights_test)"
   ]
  },
  {
   "cell_type": "code",
   "execution_count": null,
   "metadata": {},
   "outputs": [],
   "source": [
    "# Save results in the required format\n",
    "np.savetxt(\"./results.csv\", weights, fmt=\"%.12f\")"
   ]
  },
  {
   "cell_type": "code",
   "execution_count": null,
   "metadata": {},
   "outputs": [],
   "source": []
  }
 ],
 "metadata": {
  "kernelspec": {
   "display_name": "IML",
   "language": "python",
   "name": "python3"
  },
  "language_info": {
   "codemirror_mode": {
    "name": "ipython",
    "version": 3
   },
   "file_extension": ".py",
   "mimetype": "text/x-python",
   "name": "python",
   "nbconvert_exporter": "python",
   "pygments_lexer": "ipython3",
   "version": "3.10.13"
  }
 },
 "nbformat": 4,
 "nbformat_minor": 2
}
