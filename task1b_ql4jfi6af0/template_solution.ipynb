{
 "cells": [
  {
   "cell_type": "markdown",
   "metadata": {},
   "source": [
    "#### General guidance\n",
    "\n",
    "This serves as a template which will guide you through the implementation of this task. It is advised\n",
    "to first read the whole template and get a sense of the overall structure of the code before trying to fill in any of the TODO gaps.\n",
    "This is the jupyter notebook version of the template. For the python file version, please refer to the file `template_solution.py`.\n",
    "\n",
    "First, we import necessary libraries:"
   ]
  },
  {
   "cell_type": "code",
   "execution_count": 9,
   "metadata": {},
   "outputs": [],
   "source": [
    "import numpy as np\n",
    "import pandas as pd\n",
    "from sklearn.linear_model import LinearRegression\n",
    "\n",
    "# Add any additional imports here (however, the task is solvable without using \n",
    "# any additional imports)\n",
    "# import ..."
   ]
  },
  {
   "cell_type": "markdown",
   "metadata": {},
   "source": [
    " #### Loading data"
   ]
  },
  {
   "cell_type": "code",
   "execution_count": 8,
   "metadata": {},
   "outputs": [
    {
     "name": "stdout",
     "output_type": "stream",
     "text": [
      "     x1    x2    x3    x4    x5\n",
      "0  0.02  0.05 -0.09 -0.43 -0.08\n",
      "1 -0.13  0.11 -0.08 -0.29 -0.03\n",
      "2  0.08  0.06 -0.07 -0.41 -0.03\n",
      "3  0.02 -0.12  0.01 -0.43 -0.02\n",
      "4 -0.14 -0.12 -0.08 -0.02 -0.08\n"
     ]
    }
   ],
   "source": [
    "data = pd.read_csv(\"train.csv\")\n",
    "y = data[\"y\"].to_numpy()\n",
    "data = data.drop(columns=[\"Id\", \"y\"])\n",
    "# print a few data samples\n",
    "print(data.head())\n",
    "X = data.to_numpy()"
   ]
  },
  {
   "cell_type": "markdown",
   "metadata": {},
   "source": [
    "#### Transform data"
   ]
  },
  {
   "cell_type": "code",
   "execution_count": 5,
   "metadata": {},
   "outputs": [
    {
     "name": "stdout",
     "output_type": "stream",
     "text": [
      "[-0.06 -0.02 -0.08  0.09 -0.03]\n",
      "[0.99820054 0.99980001 0.99680171 0.99595273 0.99955003 1.        ]\n"
     ]
    }
   ],
   "source": [
    "\"\"\"\n",
    "Transform the 5 input features of matrix X (x_i denoting the i-th component of a given row in X) \n",
    "into 21 new features phi(X) in the following manner:\n",
    "5 linear features: phi_1(X) = x_1, phi_2(X) = x_2, phi_3(X) = x_3, phi_4(X) = x_4, phi_5(X) = x_5\n",
    "5 quadratic features: phi_6(X) = x_1^2, phi_7(X) = x_2^2, phi_8(X) = x_3^2, phi_9(X) = x_4^2, phi_10(X) = x_5^2\n",
    "5 exponential features: phi_11(X) = exp(x_1), phi_12(X) = exp(x_2), phi_13(X) = exp(x_3), phi_14(X) = exp(x_4), phi_15(X) = exp(x_5)\n",
    "5 cosine features: phi_16(X) = cos(x_1), phi_17(X) = cos(x_2), phi_18(X) = cos(x_3), phi_19(X) = cos(x_4), phi_20(X) = cos(x_5)\n",
    "1 constant feature: phi_21(X)=1\n",
    "\n",
    "Parameters\n",
    "----------\n",
    "X: matrix of floats, dim = (700,5), inputs with 5 features\n",
    "\n",
    "Compute\n",
    "----------\n",
    "X_input: matrix of floats: dim = (700,21), transformed input with 21 features\n",
    "\"\"\"\n",
    "X_input = np.zeros((700, 21))\n",
    "# TODO: Enter your code here\n",
    "\n",
    "for i in range(5):\n",
    "    X_input[:,i] = X[:,i]\n",
    "    X_input[:, i + 5] = X[:, i] ** 2\n",
    "    X_input[:, i + 10] = np.exp(X[:, i])\n",
    "    X_input[:, i + 15] = np.cos(X[:,i])\n",
    "\n",
    "X_input[:, 20] = 1\n",
    "\n",
    "assert X_input.shape == (700, 21)\n",
    "print(X[6,:])\n",
    "print(X_input[6, 15:])\n",
    "\n",
    "\n",
    "#print(round(X_input[0,5],4))"
   ]
  },
  {
   "cell_type": "markdown",
   "metadata": {},
   "source": [
    "#### Fit data"
   ]
  },
  {
   "cell_type": "code",
   "execution_count": 22,
   "metadata": {},
   "outputs": [
    {
     "name": "stdout",
     "output_type": "stream",
     "text": [
      "[   87.19891672   -67.27010868    28.53822965   158.07550392\n",
      "  -819.69642957   200.04958807  -393.54175642  1953.26216011\n",
      "  -523.63288817  1518.93422167   -86.60565699    65.34027498\n",
      "   -30.9921308   -155.77167729   822.10809668   327.109988\n",
      "  -737.64020339  3890.67031218 -1211.22831197  3799.82175151\n",
      "     0.        ]\n"
     ]
    }
   ],
   "source": [
    "\"\"\"\n",
    "Use the transformed data points X_transformed and fit the linear regression on this \n",
    "transformed data. Finally, compute the weights of the fitted linear regression. \n",
    "\n",
    "Parameters\n",
    "----------\n",
    "X_transformed: array of floats: dim = (700,21), transformed input with 21 features\n",
    "y: array of floats, dim = (700,), input labels\n",
    "\n",
    "Compute\n",
    "----------\n",
    "w: array of floats: dim = (21,), optimal parameters of linear regression\n",
    "\"\"\"\n",
    "weights = np.zeros((21,))\n",
    "# TODO: Enter your code here\n",
    "train_data = pd.read_csv('train.csv')\n",
    "lin_reg_model = LinearRegression()\n",
    "lin_reg_model.fit(X_input, train_data.iloc[:,1])\n",
    "#weights = np.linalg.inv(np.transpose(X_input) @ X_input) @ np.transpose(X_input) @ y\n",
    "weights = lin_reg_model.coef_\n",
    "assert weights.shape == (21,)\n",
    "print(weights)"
   ]
  },
  {
   "cell_type": "code",
   "execution_count": 7,
   "metadata": {},
   "outputs": [],
   "source": [
    "# Save results in the required format\n",
    "np.savetxt(\"./results.csv\", weights, fmt=\"%.12f\")"
   ]
  },
  {
   "cell_type": "code",
   "execution_count": null,
   "metadata": {},
   "outputs": [],
   "source": []
  }
 ],
 "metadata": {
  "kernelspec": {
   "display_name": "IML",
   "language": "python",
   "name": "python3"
  },
  "language_info": {
   "codemirror_mode": {
    "name": "ipython",
    "version": 3
   },
   "file_extension": ".py",
   "mimetype": "text/x-python",
   "name": "python",
   "nbconvert_exporter": "python",
   "pygments_lexer": "ipython3",
   "version": "3.10.13"
  }
 },
 "nbformat": 4,
 "nbformat_minor": 2
}
