{
 "cells": [
  {
   "cell_type": "markdown",
   "id": "ad2e81b29c71eb2b",
   "metadata": {
    "jupyter": {
     "outputs_hidden": false
    }
   },
   "source": [
    "# Task 2\n",
    "This serves as a template which will guide you through the implementation of this task. It is advised to first read the whole template and get a sense of the overall structure of the code before trying to fill in any of the TODO gaps.\n",
    "This is the jupyter notebook version of the template. For the python file version, please refer to the file `template_solution.py`."
   ]
  },
  {
   "cell_type": "markdown",
   "id": "6de347e31d213bd5",
   "metadata": {
    "jupyter": {
     "outputs_hidden": false
    }
   },
   "source": [
    "First, we import necessary libraries:"
   ]
  },
  {
   "cell_type": "code",
   "execution_count": 36,
   "id": "9e071b8e282a8d6b",
   "metadata": {
    "ExecuteTime": {
     "end_time": "2024-03-10T18:47:37.485752Z",
     "start_time": "2024-03-10T18:47:37.479263Z"
    },
    "jupyter": {
     "outputs_hidden": false
    }
   },
   "outputs": [],
   "source": [
    "import numpy as np\n",
    "import pandas as pd\n",
    "import sklearn\n",
    "# Add any other imports you need here"
   ]
  },
  {
   "cell_type": "markdown",
   "id": "918f2086e18dd7b5",
   "metadata": {
    "jupyter": {
     "outputs_hidden": false
    }
   },
   "source": [
    "# Data Loading\n",
    "TODO: Perform data preprocessing, imputation and extract X_train, y_train and X_test\n",
    "(and potentially change initialization of variables to accomodate how you deal with non-numeric data)"
   ]
  },
  {
   "cell_type": "code",
   "execution_count": 102,
   "id": "402e111cb0d70236",
   "metadata": {
    "jupyter": {
     "outputs_hidden": false
    }
   },
   "outputs": [
    {
     "name": "stdout",
     "output_type": "stream",
     "text": [
      "-1.1311709251731938\n",
      "1.0331678467272591\n",
      "-1.181627948038101\n",
      "-1.1120672158764764\n",
      "-2.7106413355158687\n",
      "-2.09448427614711\n",
      "-1.666080102783169\n",
      "-2.465162091497691\n",
      "-0.6585457306773845\n",
      "-1.1841483788541176\n",
      "     season  price_AUS  price_CHF  price_CZE  price_GER  price_ESP  price_FRA  \\\n",
      "4    spring  -1.131171  -5.171675  -2.681391  -1.630410  -3.615413  -0.470111   \n",
      "12   spring  -1.131171   1.952635   2.395004   2.684656  -1.338211  -2.094484   \n",
      "16   spring   2.291247   0.978762   2.611865  -1.112067  -0.154121   1.734737   \n",
      "20   spring  -1.131171  -3.089666   2.350411   1.813438   0.495253   1.570561   \n",
      "24   spring  -1.131171  -1.815609   2.402741   1.543463   0.675973   1.533164   \n",
      "..      ...        ...        ...        ...        ...        ...        ...   \n",
      "880  spring  -1.131171  -1.070035  -1.181628  -3.533170  -1.528496  -3.733332   \n",
      "884  spring  -1.131171   2.077429  -2.109459  -1.112067  -1.753443  -3.644403   \n",
      "888  spring  -1.671694   4.756591  -1.835861  -2.572227  -2.710641  -2.094484   \n",
      "892  spring  -1.601866   4.388520  -1.850603  -1.112067  -1.949067  -3.576291   \n",
      "896  spring  -1.612258   7.118237  -1.644304  -1.967999  -1.919329  -2.094484   \n",
      "\n",
      "     price_UK  price_ITA  price_POL  price_SVK  \n",
      "4    0.658022  -3.105114  -0.658546  -1.184148  \n",
      "12  -1.666080   0.026844   4.285636   2.830539  \n",
      "16  -0.731553   1.112870  -0.658546  -1.184148  \n",
      "20  -1.288269  -2.465162  -0.658546   3.575604  \n",
      "24  -1.175480  -2.465162  -0.658546   3.431002  \n",
      "..        ...        ...        ...        ...  \n",
      "880 -3.564191  -3.598132  -2.497853  -1.184148  \n",
      "884 -3.403688  -3.654034  -2.274073  -1.184148  \n",
      "888 -1.666080  -3.561765  -2.152000  -2.890997  \n",
      "892 -1.666080  -3.545698  -2.149492  -1.184148  \n",
      "896 -3.355482  -2.465162  -0.658546  -2.895609  \n",
      "\n",
      "[156 rows x 11 columns]\n",
      "-1.1973127350597061\n",
      "0.8581743018338441\n",
      "-1.1645437405025745\n",
      "-1.2195194460115681\n",
      "-2.814436992981778\n",
      "-1.9317931757603746\n",
      "-1.5515953388810204\n",
      "-2.5381309611446943\n",
      "-0.625696793730931\n",
      "-1.247791316225222\n",
      "     season  price_AUS  price_CHF  price_CZE  price_GER  price_ESP  price_FRA  \\\n",
      "1    summer  -3.421345  -1.455502  -3.597649  -3.675204  -2.814437  -2.440406   \n",
      "5    summer  -1.905878  -3.155636  -1.164544  -0.735178  -2.814437  -1.931793   \n",
      "9    summer   0.638961   1.799386   1.706827   1.619953  -2.295708  -1.931793   \n",
      "13   summer   1.709345   0.918261   2.636444   2.527331  -2.814437  -1.931793   \n",
      "17   summer   2.271764  -0.112291   2.613127  -1.219519  -2.814437   1.641450   \n",
      "..      ...        ...        ...        ...        ...        ...        ...   \n",
      "877  summer  -1.197313  -2.211300  -1.164544  -3.865859  -1.693045  -3.599037   \n",
      "881  summer  -2.363369   0.039867  -1.164544  -3.339331  -1.622520  -3.640262   \n",
      "889  summer  -1.901554   5.052525  -1.802105  -2.358419  -2.814437  -1.931793   \n",
      "893  summer  -1.673782   5.203499  -1.164544  -1.219519  -1.807538  -3.523347   \n",
      "897  summer  -1.197313   5.551131  -1.665509  -2.163174  -2.814437  -3.510255   \n",
      "\n",
      "     price_UK  price_ITA  price_POL  price_SVK  \n",
      "1   -2.379524  -2.538131  -0.625697  -3.725060  \n",
      "5    1.294469  -2.829445  -1.226395  -1.150420  \n",
      "9    1.988012  -1.059557  -0.625697  -1.247791  \n",
      "13  -1.551595   0.417978   4.413276   3.349894  \n",
      "17  -0.891925  -2.538131   3.868661   3.509591  \n",
      "..        ...        ...        ...        ...  \n",
      "877 -3.404934  -2.538131  -2.688589  -3.435923  \n",
      "881 -3.369955  -2.538131  -0.625697  -3.432088  \n",
      "889 -3.401740  -3.656447  -1.990678  -1.247791  \n",
      "893 -3.310142  -2.538131  -1.938382  -2.826896  \n",
      "897 -1.551595  -3.482735  -1.981160  -2.682764  \n",
      "\n",
      "[167 rows x 11 columns]\n",
      "-1.106242228743198\n",
      "0.904704671348878\n",
      "-1.148417215775371\n",
      "-1.1643092681943985\n",
      "-2.8552500573533255\n",
      "-1.9107486278909076\n",
      "-1.6969170248009289\n",
      "-2.6141373506938455\n",
      "-0.8929621512921861\n",
      "-1.204774123523494\n",
      "     season  price_AUS  price_CHF  price_CZE  price_GER  price_ESP  price_FRA  \\\n",
      "2    autumn  -3.460499  -1.912417  -1.148417  -3.092138  -2.855250  -1.629539   \n",
      "10   autumn   1.109046   0.622588   1.987050  -1.164309  -2.855250   1.675435   \n",
      "14   autumn   1.945154   0.931415   2.450128   2.679607  -0.517704   1.654935   \n",
      "22   autumn   2.466642  -1.657322   2.330678  -1.164309   0.704724   1.409219   \n",
      "26   autumn   2.561372  -1.154973   2.513534   1.804215   0.698641   1.365552   \n",
      "..      ...        ...        ...        ...        ...        ...        ...   \n",
      "882  autumn  -2.228735   0.827392  -2.438318  -3.252888  -1.669306  -1.910749   \n",
      "886  autumn  -1.106242   3.875578  -1.989015  -1.164309  -1.560783  -3.495595   \n",
      "890  autumn  -1.106242   3.865312  -1.902701  -1.164309  -2.855250  -3.596918   \n",
      "894  autumn  -1.106242   5.460406  -1.148417  -2.211310  -1.866715  -3.467347   \n",
      "898  autumn  -1.735879   5.530659  -1.781010  -2.190548  -1.788694  -1.910749   \n",
      "\n",
      "     price_UK  price_ITA  price_POL  price_SVK  \n",
      "2   -1.696917  -3.310532  -2.759584  -3.410504  \n",
      "10   1.557595  -2.614137   3.488480   2.535316  \n",
      "14  -0.404162  -2.614137  -0.892962  -1.204774  \n",
      "22  -1.207075   1.762168  -0.892962  -1.204774  \n",
      "26  -1.696917  -2.614137  -0.892962   3.397265  \n",
      "..        ...        ...        ...        ...  \n",
      "882 -3.550443  -3.548004  -0.892962  -1.204774  \n",
      "886 -1.696917  -3.755321  -2.236380  -3.012980  \n",
      "890 -3.250647  -3.514073  -2.135837  -2.545266  \n",
      "894 -1.696917  -3.526062  -1.925207  -2.716409  \n",
      "898 -3.516694  -2.614137  -0.892962  -2.768583  \n",
      "\n",
      "[158 rows x 11 columns]\n",
      "-1.0063637073313225\n",
      "0.8910445916526905\n",
      "-0.984526177853507\n",
      "-0.9953571248488347\n",
      "-2.9958484935130767\n",
      "-2.0374306390526127\n",
      "-1.682778481591835\n",
      "-2.3728634019515344\n",
      "-0.6022898648029833\n",
      "-1.246812985808166\n",
      "     season  price_AUS  price_CHF  price_CZE  price_GER  price_ESP  price_FRA  \\\n",
      "3    winter  -2.992883  -3.748285  -3.372774  -2.452008  -3.533252  -1.188945   \n",
      "7    winter  -0.200533   0.741304   0.021173  -0.995357  -2.995848  -2.037431   \n",
      "19   winter   2.312696  -1.201764  -0.984526   1.731437  -2.995848   1.671062   \n",
      "31   winter   2.031733  -0.035117   2.610787   2.445826  -2.995848   1.622173   \n",
      "35   winter   1.471717   0.994070   2.318597   2.594987  -1.388653  -2.037431   \n",
      "..      ...        ...        ...        ...        ...        ...        ...   \n",
      "875  winter  -2.977600  -2.464523  -0.984526  -3.954173  -2.995848  -3.475447   \n",
      "879  winter  -1.006364  -0.778687  -0.984526  -3.627723  -1.577204  -3.740339   \n",
      "883  winter  -2.157473   1.083732  -2.231579  -3.219580  -2.995848  -3.636355   \n",
      "891  winter  -1.686644   5.668003  -1.652688  -0.995357  -2.995848  -3.470492   \n",
      "899  winter  -1.006364   4.826639  -1.674032  -2.251319  -1.952348  -2.037431   \n",
      "\n",
      "     price_UK  price_ITA  price_POL  price_SVK  \n",
      "3   -1.682778  -3.362055  -0.602290  -1.246813  \n",
      "7    1.995720  -2.173558   0.868324   0.586957  \n",
      "19  -1.187616  -2.372863   3.516749   3.397884  \n",
      "31  -1.682778   0.959379   4.222674  -1.246813  \n",
      "35   0.637611   0.088019  -0.602290  -1.246813  \n",
      "..        ...        ...        ...        ...  \n",
      "875 -3.639619  -2.372863  -2.663826  -3.710829  \n",
      "879 -3.567602  -2.372863  -2.691272  -3.340661  \n",
      "883 -1.682778  -3.444898  -0.602290  -3.170474  \n",
      "891 -3.280164  -2.372863  -2.061436  -2.823104  \n",
      "899 -1.682778  -3.688312  -2.055059  -2.667514  \n",
      "\n",
      "[157 rows x 11 columns]\n"
     ]
    },
    {
     "name": "stderr",
     "output_type": "stream",
     "text": [
      "/var/folders/8x/k_nyp_s16d10yl_nkhlgg7cc0000gn/T/ipykernel_70200/309712317.py:54: FutureWarning: Setting an item of incompatible dtype is deprecated and will raise an error in a future version of pandas. Value 'spring' has dtype incompatible with float64, please explicitly cast to a compatible dtype first.\n",
      "  season_df_filled.iloc[0:] = season_df.iloc[0]\n",
      "/var/folders/8x/k_nyp_s16d10yl_nkhlgg7cc0000gn/T/ipykernel_70200/309712317.py:54: FutureWarning: Setting an item of incompatible dtype is deprecated and will raise an error in a future version of pandas. Value 'summer' has dtype incompatible with float64, please explicitly cast to a compatible dtype first.\n",
      "  season_df_filled.iloc[0:] = season_df.iloc[0]\n",
      "/var/folders/8x/k_nyp_s16d10yl_nkhlgg7cc0000gn/T/ipykernel_70200/309712317.py:54: FutureWarning: Setting an item of incompatible dtype is deprecated and will raise an error in a future version of pandas. Value 'autumn' has dtype incompatible with float64, please explicitly cast to a compatible dtype first.\n",
      "  season_df_filled.iloc[0:] = season_df.iloc[0]\n",
      "/var/folders/8x/k_nyp_s16d10yl_nkhlgg7cc0000gn/T/ipykernel_70200/309712317.py:54: FutureWarning: Setting an item of incompatible dtype is deprecated and will raise an error in a future version of pandas. Value 'winter' has dtype incompatible with float64, please explicitly cast to a compatible dtype first.\n",
      "  season_df_filled.iloc[0:] = season_df.iloc[0]\n"
     ]
    }
   ],
   "source": [
    "\"\"\"\n",
    "This loads the training and test data, preprocesses it, removes the NaN\n",
    "values and interpolates the missing data using imputation\n",
    "\n",
    "Parameters\n",
    "----------\n",
    "Compute\n",
    "----------\n",
    "X_train: matrix of floats, training input with features\n",
    "y_train: array of floats, training output with labels\n",
    "X_test: matrix of floats: dim = (100, ?), test input with features\n",
    "\"\"\"\n",
    "# Load training data\n",
    "import sklearn.impute\n",
    "\n",
    "\n",
    "train_df = pd.read_csv(\"train.csv\")\n",
    "    \n",
    "# print(\"Training data:\")\n",
    "# print(\"Shape:\", train_df.shape)\n",
    "# print(train_df.head(4))\n",
    "# print('\\n')\n",
    "    \n",
    "# Load test data\n",
    "test_df = pd.read_csv(\"test.csv\")\n",
    "\n",
    "# print(\"Test data:\")\n",
    "# print(test_df.shape)\n",
    "# print(test_df.head(2))\n",
    "\n",
    "# Dummy initialization of the X_train, X_test and y_train   \n",
    "# TODO: Depending on how you deal with the non-numeric data, you may want to \n",
    "# modify/ignore the initialization of these variables   \n",
    "X_train = np.zeros_like(train_df.drop(['price_CHF'],axis=1))\n",
    "y_train = np.zeros_like(train_df['price_CHF'])\n",
    "X_test = np.zeros_like(test_df)\n",
    "\n",
    "# TODO: Perform data preprocessing, imputation and extract X_train, y_train and X_test\n",
    "\n",
    "train_df_CHF = train_df.dropna(subset=['price_CHF']) # Drop all rows with nan entries in \"price_CHF\"\n",
    "X_train = train_df_CHF.drop(['price_CHF'],axis=1)\n",
    "y_train = train_df_CHF['price_CHF']\n",
    "X_test = test_df\n",
    "\n",
    "spring_df = train_df_CHF[train_df_CHF['season'] == 'spring']\n",
    "summer_df = train_df_CHF[train_df_CHF['season'] == 'summer']\n",
    "autumn_df = train_df_CHF[train_df_CHF['season'] == 'autumn']\n",
    "winter_df = train_df_CHF[train_df_CHF['season'] == 'winter']\n",
    "\n",
    "seasons_array = [spring_df, summer_df, autumn_df, winter_df]\n",
    "\n",
    "for season_df in seasons_array:\n",
    "    season_df_filled = pd.DataFrame(np.nan, index = season_df.index, columns = season_df.columns)\n",
    "    season_df_filled.iloc[0:] = season_df.iloc[0]\n",
    "    for i in range(1,11) :\n",
    "        season_col_filled = season_df.iloc[:,i].fillna(np.mean(season_df.iloc[:,i]))\n",
    "        print(np.mean(season_df.iloc[:,i]))\n",
    "        season_df_filled.iloc[:, i] = season_col_filled\n",
    "    print(season_df_filled)\n",
    "\n",
    "assert (X_train.shape[1] == X_test.shape[1]) and (X_train.shape[0] == y_train.shape[0]) and (X_test.shape[0] == 100), \"Invalid data shape\""
   ]
  },
  {
   "cell_type": "markdown",
   "id": "959037466887e870",
   "metadata": {
    "jupyter": {
     "outputs_hidden": false
    }
   },
   "source": [
    "# Modeling and Prediction\n",
    "TODO: Define the model and fit it using training data. Then, use test data to make predictions"
   ]
  },
  {
   "cell_type": "code",
   "execution_count": null,
   "id": "9fb0d86b605f9813",
   "metadata": {
    "jupyter": {
     "outputs_hidden": false
    }
   },
   "outputs": [],
   "source": [
    "\"\"\"\n",
    "This defines the model, fits training data and then does the prediction\n",
    "with the test data \n",
    "\n",
    "Parameters\n",
    "----------\n",
    "X_train: matrix of floats, training input with 10 features\n",
    "y_train: array of floats, training output\n",
    "X_test: matrix of floats: dim = (100, ?), test input with 10 features\n",
    "\n",
    "Compute\n",
    "----------\n",
    "y_test: array of floats: dim = (100,), predictions on test set\n",
    "\"\"\"\n",
    "class Model(object):\n",
    "    def __init__(self):\n",
    "        super().__init__()\n",
    "        self._x_train = None\n",
    "        self._y_train = None\n",
    "\n",
    "    def train(self, X_train: np.ndarray, y_train: np.ndarray):\n",
    "        #TODO: Define the model and fit it using (X_train, y_train)\n",
    "        self._x_train = X_train\n",
    "        self._y_train = y_train\n",
    "\n",
    "    def predict(self, X_test: np.ndarray) -> np.ndarray:\n",
    "        #TODO: Use the model to make predictions y_pred using test data X_test\n",
    "        y_pred=np.zeros(X_test.shape[0])\n",
    "        assert y_pred.shape == (X_test.shape[0],), \"Invalid data shape\"\n",
    "        return y_pred"
   ]
  },
  {
   "cell_type": "code",
   "execution_count": null,
   "id": "82790069-ee91-4ec5-9dcd-3d40f436367a",
   "metadata": {
    "jupyter": {
     "outputs_hidden": false
    }
   },
   "outputs": [],
   "source": [
    "model = Model()\n",
    "# Use this function for training the model\n",
    "model.train(X_train=X_train, y_train=y_train)\n",
    "# Use this function for inferece\n",
    "y_pred = model.predict(X_test)"
   ]
  },
  {
   "cell_type": "markdown",
   "id": "9c62e0cd4cec5a7e",
   "metadata": {
    "jupyter": {
     "outputs_hidden": false
    }
   },
   "source": [
    "# Saving Results\n",
    "You don't have to change this"
   ]
  },
  {
   "cell_type": "code",
   "execution_count": null,
   "id": "382d87d2d67ddbdc",
   "metadata": {
    "jupyter": {
     "outputs_hidden": false
    }
   },
   "outputs": [],
   "source": [
    "dt = pd.DataFrame(y_pred) \n",
    "dt.columns = ['price_CHF']\n",
    "dt.to_csv('results.csv', index=False)\n",
    "print(\"\\nResults file successfully generated!\")"
   ]
  },
  {
   "cell_type": "code",
   "execution_count": null,
   "id": "c441b81e-59db-4b12-86a4-731b3f81fd0b",
   "metadata": {},
   "outputs": [],
   "source": []
  }
 ],
 "metadata": {
  "kernelspec": {
   "display_name": "IML",
   "language": "python",
   "name": "python3"
  },
  "language_info": {
   "codemirror_mode": {
    "name": "ipython",
    "version": 3
   },
   "file_extension": ".py",
   "mimetype": "text/x-python",
   "name": "python",
   "nbconvert_exporter": "python",
   "pygments_lexer": "ipython3",
   "version": "3.10.13"
  }
 },
 "nbformat": 4,
 "nbformat_minor": 5
}
