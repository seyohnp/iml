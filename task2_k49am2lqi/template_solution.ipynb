{
 "cells": [
  {
   "cell_type": "markdown",
   "id": "ad2e81b29c71eb2b",
   "metadata": {
    "jupyter": {
     "outputs_hidden": false
    }
   },
   "source": [
    "# Task 2\n",
    "This serves as a template which will guide you through the implementation of this task. It is advised to first read the whole template and get a sense of the overall structure of the code before trying to fill in any of the TODO gaps.\n",
    "This is the jupyter notebook version of the template. For the python file version, please refer to the file `template_solution.py`."
   ]
  },
  {
   "cell_type": "markdown",
   "id": "6de347e31d213bd5",
   "metadata": {
    "jupyter": {
     "outputs_hidden": false
    }
   },
   "source": [
    "First, we import necessary libraries:"
   ]
  },
  {
   "cell_type": "code",
   "execution_count": 111,
   "id": "9e071b8e282a8d6b",
   "metadata": {
    "ExecuteTime": {
     "end_time": "2024-03-10T18:47:37.485752Z",
     "start_time": "2024-03-10T18:47:37.479263Z"
    },
    "jupyter": {
     "outputs_hidden": false
    }
   },
   "outputs": [],
   "source": [
    "import numpy as np\n",
    "import pandas as pd\n",
    "import sklearn\n",
    "# Add any other imports you need here"
   ]
  },
  {
   "cell_type": "markdown",
   "id": "918f2086e18dd7b5",
   "metadata": {
    "jupyter": {
     "outputs_hidden": false
    }
   },
   "source": [
    "# Data Loading\n",
    "TODO: Perform data preprocessing, imputation and extract X_train, y_train and X_test\n",
    "(and potentially change initialization of variables to accomodate how you deal with non-numeric data)"
   ]
  },
  {
   "cell_type": "code",
   "execution_count": 129,
   "id": "402e111cb0d70236",
   "metadata": {
    "jupyter": {
     "outputs_hidden": false
    }
   },
   "outputs": [
    {
     "name": "stdout",
     "output_type": "stream",
     "text": [
      "     season  price_AUS  price_CHF  price_CZE  price_GER  price_ESP  price_FRA  \\\n",
      "4    spring  -1.131171  -5.171675  -2.681391  -1.630410  -3.615413  -0.470111   \n",
      "12   spring  -1.131171   1.952635   2.395004   2.684656  -1.338211  -2.094484   \n",
      "16   spring   2.291247   0.978762   2.611865  -1.112067  -0.154121   1.734737   \n",
      "20   spring  -1.131171  -3.089666   2.350411   1.813438   0.495253   1.570561   \n",
      "24   spring  -1.131171  -1.815609   2.402741   1.543463   0.675973   1.533164   \n",
      "..      ...        ...        ...        ...        ...        ...        ...   \n",
      "875  winter  -2.977600  -2.464523  -0.984526  -3.954173  -2.995848  -3.475447   \n",
      "879  winter  -1.006364  -0.778687  -0.984526  -3.627723  -1.577204  -3.740339   \n",
      "883  winter  -2.157473   1.083732  -2.231579  -3.219580  -2.995848  -3.636355   \n",
      "891  winter  -1.686644   5.668003  -1.652688  -0.995357  -2.995848  -3.470492   \n",
      "899  winter  -1.006364   4.826639  -1.674032  -2.251319  -1.952348  -2.037431   \n",
      "\n",
      "     price_UK  price_ITA  price_POL  price_SVK  \n",
      "4    0.658022  -3.105114  -0.658546  -1.184148  \n",
      "12  -1.666080   0.026844   4.285636   2.830539  \n",
      "16  -0.731553   1.112870  -0.658546  -1.184148  \n",
      "20  -1.288269  -2.465162  -0.658546   3.575604  \n",
      "24  -1.175480  -2.465162  -0.658546   3.431002  \n",
      "..        ...        ...        ...        ...  \n",
      "875 -3.639619  -2.372863  -2.663826  -3.710829  \n",
      "879 -3.567602  -2.372863  -2.691272  -3.340661  \n",
      "883 -1.682778  -3.444898  -0.602290  -3.170474  \n",
      "891 -3.280164  -2.372863  -2.061436  -2.823104  \n",
      "899 -1.682778  -3.688312  -2.055059  -2.667514  \n",
      "\n",
      "[638 rows x 11 columns]\n"
     ]
    },
    {
     "name": "stderr",
     "output_type": "stream",
     "text": [
      "/var/folders/8x/k_nyp_s16d10yl_nkhlgg7cc0000gn/T/ipykernel_70200/631084846.py:55: FutureWarning: Setting an item of incompatible dtype is deprecated and will raise an error in a future version of pandas. Value 'spring' has dtype incompatible with float64, please explicitly cast to a compatible dtype first.\n",
      "  season_df_filled.iloc[0:] = season_df.iloc[0]\n",
      "/var/folders/8x/k_nyp_s16d10yl_nkhlgg7cc0000gn/T/ipykernel_70200/631084846.py:55: FutureWarning: Setting an item of incompatible dtype is deprecated and will raise an error in a future version of pandas. Value 'summer' has dtype incompatible with float64, please explicitly cast to a compatible dtype first.\n",
      "  season_df_filled.iloc[0:] = season_df.iloc[0]\n",
      "/var/folders/8x/k_nyp_s16d10yl_nkhlgg7cc0000gn/T/ipykernel_70200/631084846.py:55: FutureWarning: Setting an item of incompatible dtype is deprecated and will raise an error in a future version of pandas. Value 'autumn' has dtype incompatible with float64, please explicitly cast to a compatible dtype first.\n",
      "  season_df_filled.iloc[0:] = season_df.iloc[0]\n",
      "/var/folders/8x/k_nyp_s16d10yl_nkhlgg7cc0000gn/T/ipykernel_70200/631084846.py:55: FutureWarning: Setting an item of incompatible dtype is deprecated and will raise an error in a future version of pandas. Value 'winter' has dtype incompatible with float64, please explicitly cast to a compatible dtype first.\n",
      "  season_df_filled.iloc[0:] = season_df.iloc[0]\n"
     ]
    }
   ],
   "source": [
    "\"\"\"\n",
    "This loads the training and test data, preprocesses it, removes the NaN\n",
    "values and interpolates the missing data using imputation\n",
    "\n",
    "Parameters\n",
    "----------\n",
    "Compute\n",
    "----------\n",
    "X_train: matrix of floats, training input with features\n",
    "y_train: array of floats, training output with labels\n",
    "X_test: matrix of floats: dim = (100, ?), test input with features\n",
    "\"\"\"\n",
    "# Load training data\n",
    "import sklearn.impute\n",
    "\n",
    "\n",
    "train_df = pd.read_csv(\"train.csv\")\n",
    "    \n",
    "# print(\"Training data:\")\n",
    "# print(\"Shape:\", train_df.shape)\n",
    "# print(train_df.head(4))\n",
    "# print('\\n')\n",
    "    \n",
    "# Load test data\n",
    "test_df = pd.read_csv(\"test.csv\")\n",
    "\n",
    "# print(\"Test data:\")\n",
    "# print(test_df.shape)\n",
    "# print(test_df.head(2))\n",
    "\n",
    "# Dummy initialization of the X_train, X_test and y_train   \n",
    "# TODO: Depending on how you deal with the non-numeric data, you may want to \n",
    "# modify/ignore the initialization of these variables   \n",
    "X_train = np.zeros_like(train_df.drop(['price_CHF'],axis=1))\n",
    "y_train = np.zeros_like(train_df['price_CHF'])\n",
    "X_test = np.zeros_like(test_df)\n",
    "\n",
    "# TODO: Perform data preprocessing, imputation and extract X_train, y_train and X_test\n",
    "\n",
    "train_df_CHF = train_df.dropna(subset=['price_CHF']) # Drop all rows with nan entries in \"price_CHF\"\n",
    "X_train = train_df_CHF.drop(['price_CHF'],axis=1)\n",
    "y_train = train_df_CHF['price_CHF']\n",
    "X_test = test_df\n",
    "\n",
    "spring_df = train_df_CHF[train_df_CHF['season'] == 'spring']\n",
    "summer_df = train_df_CHF[train_df_CHF['season'] == 'summer']\n",
    "autumn_df = train_df_CHF[train_df_CHF['season'] == 'autumn']\n",
    "winter_df = train_df_CHF[train_df_CHF['season'] == 'winter']\n",
    "\n",
    "seasons_array = [spring_df, summer_df, autumn_df, winter_df]\n",
    "train_df_filled = pd.DataFrame()\n",
    "\n",
    "for season_df in seasons_array:\n",
    "    season_df_filled = pd.DataFrame(np.nan, index=season_df.index, columns=season_df.columns)\n",
    "    season_df_filled.iloc[0:] = season_df.iloc[0]\n",
    "    for i in range(1, 11):\n",
    "        season_col_filled = season_df.iloc[:, i].fillna(np.mean(season_df.iloc[:, i]))\n",
    "        season_df_filled.iloc[:, i] = season_col_filled\n",
    "    \n",
    "    # Append the filled season dataframe to train_df_filled\n",
    "    train_df_filled = pd.concat([train_df_filled, season_df_filled], axis=0)\n",
    "\n",
    "print(train_df_filled)\n",
    "\n",
    "\n",
    "assert (X_train.shape[1] == X_test.shape[1]) and (X_train.shape[0] == y_train.shape[0]) and (X_test.shape[0] == 100), \"Invalid data shape\""
   ]
  },
  {
   "cell_type": "markdown",
   "id": "959037466887e870",
   "metadata": {
    "jupyter": {
     "outputs_hidden": false
    }
   },
   "source": [
    "# Modeling and Prediction\n",
    "TODO: Define the model and fit it using training data. Then, use test data to make predictions"
   ]
  },
  {
   "cell_type": "code",
   "execution_count": 113,
   "id": "9fb0d86b605f9813",
   "metadata": {
    "jupyter": {
     "outputs_hidden": false
    }
   },
   "outputs": [],
   "source": [
    "\"\"\"\n",
    "This defines the model, fits training data and then does the prediction\n",
    "with the test data \n",
    "\n",
    "Parameters\n",
    "----------\n",
    "X_train: matrix of floats, training input with 10 features\n",
    "y_train: array of floats, training output\n",
    "X_test: matrix of floats: dim = (100, ?), test input with 10 features\n",
    "\n",
    "Compute\n",
    "----------\n",
    "y_test: array of floats: dim = (100,), predictions on test set\n",
    "\"\"\"\n",
    "class Model(object):\n",
    "    def __init__(self):\n",
    "        super().__init__()\n",
    "        self._x_train = None\n",
    "        self._y_train = None\n",
    "\n",
    "    def train(self, X_train: np.ndarray, y_train: np.ndarray):\n",
    "        #TODO: Define the model and fit it using (X_train, y_train)\n",
    "        self._x_train = X_train\n",
    "        self._y_train = y_train\n",
    "\n",
    "    def predict(self, X_test: np.ndarray) -> np.ndarray:\n",
    "        #TODO: Use the model to make predictions y_pred using test data X_test\n",
    "        y_pred=np.zeros(X_test.shape[0])\n",
    "        assert y_pred.shape == (X_test.shape[0],), \"Invalid data shape\"\n",
    "        return y_pred"
   ]
  },
  {
   "cell_type": "code",
   "execution_count": 114,
   "id": "82790069-ee91-4ec5-9dcd-3d40f436367a",
   "metadata": {
    "jupyter": {
     "outputs_hidden": false
    }
   },
   "outputs": [],
   "source": [
    "model = Model()\n",
    "# Use this function for training the model\n",
    "model.train(X_train=X_train, y_train=y_train)\n",
    "# Use this function for inferece\n",
    "y_pred = model.predict(X_test)"
   ]
  },
  {
   "cell_type": "markdown",
   "id": "9c62e0cd4cec5a7e",
   "metadata": {
    "jupyter": {
     "outputs_hidden": false
    }
   },
   "source": [
    "# Saving Results\n",
    "You don't have to change this"
   ]
  },
  {
   "cell_type": "code",
   "execution_count": 115,
   "id": "382d87d2d67ddbdc",
   "metadata": {
    "jupyter": {
     "outputs_hidden": false
    }
   },
   "outputs": [
    {
     "name": "stdout",
     "output_type": "stream",
     "text": [
      "\n",
      "Results file successfully generated!\n"
     ]
    }
   ],
   "source": [
    "dt = pd.DataFrame(y_pred) \n",
    "dt.columns = ['price_CHF']\n",
    "dt.to_csv('results.csv', index=False)\n",
    "print(\"\\nResults file successfully generated!\")"
   ]
  },
  {
   "cell_type": "code",
   "execution_count": null,
   "id": "c441b81e-59db-4b12-86a4-731b3f81fd0b",
   "metadata": {},
   "outputs": [],
   "source": []
  }
 ],
 "metadata": {
  "kernelspec": {
   "display_name": "IML",
   "language": "python",
   "name": "python3"
  },
  "language_info": {
   "codemirror_mode": {
    "name": "ipython",
    "version": 3
   },
   "file_extension": ".py",
   "mimetype": "text/x-python",
   "name": "python",
   "nbconvert_exporter": "python",
   "pygments_lexer": "ipython3",
   "version": "3.10.13"
  }
 },
 "nbformat": 4,
 "nbformat_minor": 5
}
